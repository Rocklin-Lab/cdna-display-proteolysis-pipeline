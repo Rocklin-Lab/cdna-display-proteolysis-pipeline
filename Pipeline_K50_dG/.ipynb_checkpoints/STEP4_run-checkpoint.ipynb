{
 "cells": [
  {
   "cell_type": "code",
   "execution_count": 1,
   "id": "d1cd4ee5",
   "metadata": {},
   "outputs": [
    {
     "name": "stdout",
     "output_type": "stream",
     "text": [
      "importing Jupyter notebook from DataS23_STEP4_module.ipynb\n"
     ]
    },
    {
     "name": "stderr",
     "output_type": "stream",
     "text": [
      "/root/miniconda3/lib/python3.9/site-packages/jax/experimental/optimizers.py:28: FutureWarning: jax.experimental.optimizers is deprecated, import jax.example_libraries.optimizers instead\n",
      "  warnings.warn('jax.experimental.optimizers is deprecated, '\n",
      "/root/miniconda3/lib/python3.9/site-packages/jax/experimental/stax.py:28: FutureWarning: jax.experimental.stax is deprecated, import jax.example_libraries.stax instead\n",
      "  warnings.warn('jax.experimental.stax is deprecated, '\n"
     ]
    },
    {
     "name": "stdout",
     "output_type": "stream",
     "text": [
      "gpu\n",
      "Fri Nov 11 11:20:48 2022       \n",
      "+-----------------------------------------------------------------------------+\n",
      "| NVIDIA-SMI 455.32.00    Driver Version: 455.32.00    CUDA Version: 11.1     |\n",
      "|-------------------------------+----------------------+----------------------+\n",
      "| GPU  Name        Persistence-M| Bus-Id        Disp.A | Volatile Uncorr. ECC |\n",
      "| Fan  Temp  Perf  Pwr:Usage/Cap|         Memory-Usage | GPU-Util  Compute M. |\n",
      "|                               |                      |               MIG M. |\n",
      "|===============================+======================+======================|\n",
      "|   0  GeForce RTX 3090    On   | 00000000:01:00.0 Off |                  N/A |\n",
      "|  0%   53C    P2    36W / 420W |    285MiB / 24265MiB |      1%      Default |\n",
      "|                               |                      |                  N/A |\n",
      "+-------------------------------+----------------------+----------------------+\n",
      "                                                                               \n",
      "+-----------------------------------------------------------------------------+\n",
      "| Processes:                                                                  |\n",
      "|  GPU   GI   CI        PID   Type   Process name                  GPU Memory |\n",
      "|        ID   ID                                                   Usage      |\n",
      "|=============================================================================|\n",
      "+-----------------------------------------------------------------------------+\n"
     ]
    }
   ],
   "source": [
    "# import libaries\n",
    "\n",
    "import matplotlib\n",
    "from matplotlib import pyplot as plt\n",
    "import seaborn as sns\n",
    "import pandas as pd\n",
    "import numpy as np\n",
    "import import_ipynb\n",
    "import STEP4_module"
   ]
  },
  {
   "cell_type": "code",
   "execution_count": 3,
   "id": "35f9208f",
   "metadata": {},
   "outputs": [
    {
     "name": "stderr",
     "output_type": "stream",
     "text": [
      "100%|████████████████████████████████████████████████████████████████████████████████████████████████████████████████████████████████████████████████████████████████████████| 297929/297929 [01:19<00:00, 3760.02it/s]\n"
     ]
    },
    {
     "data": {
      "text/html": [
       "<div>\n",
       "<style scoped>\n",
       "    .dataframe tbody tr th:only-of-type {\n",
       "        vertical-align: middle;\n",
       "    }\n",
       "\n",
       "    .dataframe tbody tr th {\n",
       "        vertical-align: top;\n",
       "    }\n",
       "\n",
       "    .dataframe thead th {\n",
       "        text-align: right;\n",
       "    }\n",
       "</style>\n",
       "<table border=\"1\" class=\"dataframe\">\n",
       "  <thead>\n",
       "    <tr style=\"text-align: right;\">\n",
       "      <th></th>\n",
       "      <th>name</th>\n",
       "      <th>dna_seq</th>\n",
       "      <th>unfolded_K50t</th>\n",
       "      <th>unfolded_K50c</th>\n",
       "    </tr>\n",
       "  </thead>\n",
       "  <tbody>\n",
       "    <tr>\n",
       "      <th>0</th>\n",
       "      <td>1A11</td>\n",
       "      <td>GGTTCTGAAAAAATGTCTACCGCGATCTCTGTTCTGCTGGCGCAGG...</td>\n",
       "      <td>0.494883</td>\n",
       "      <td>0.337770</td>\n",
       "    </tr>\n",
       "    <tr>\n",
       "      <th>1</th>\n",
       "      <td>1A11_PG_hp</td>\n",
       "      <td>GGTAAACGTGAAGCGACCCAGATGCTGCAGGTTCTGCTGCTGTCTG...</td>\n",
       "      <td>0.487347</td>\n",
       "      <td>0.309948</td>\n",
       "    </tr>\n",
       "    <tr>\n",
       "      <th>2</th>\n",
       "      <td>1AIE</td>\n",
       "      <td>GAATACTTCACCCTGCAGATCCGTGGTCGTGAACGCTTCGAAATGT...</td>\n",
       "      <td>0.452976</td>\n",
       "      <td>0.238489</td>\n",
       "    </tr>\n",
       "    <tr>\n",
       "      <th>3</th>\n",
       "      <td>1AIE_PG_hp</td>\n",
       "      <td>CAGATGTACGAAGCGGAGTTCGAAGGCCAGCGTCGTATCGAATTCT...</td>\n",
       "      <td>0.502698</td>\n",
       "      <td>0.244043</td>\n",
       "    </tr>\n",
       "    <tr>\n",
       "      <th>4</th>\n",
       "      <td>1AMB</td>\n",
       "      <td>GACGCTGAATTCCGTCACGACTCTGGTTACGAAGTTCACCACCAAA...</td>\n",
       "      <td>0.512763</td>\n",
       "      <td>0.269075</td>\n",
       "    </tr>\n",
       "    <tr>\n",
       "      <th>...</th>\n",
       "      <td>...</td>\n",
       "      <td>...</td>\n",
       "      <td>...</td>\n",
       "      <td>...</td>\n",
       "    </tr>\n",
       "    <tr>\n",
       "      <th>297924</th>\n",
       "      <td>HHH_rd4_0860.pdb</td>\n",
       "      <td>CAGGACGAAGCGAAGAAAAAAGTTGAACGTCTGGTTCGTAACGGTG...</td>\n",
       "      <td>0.481668</td>\n",
       "      <td>0.173534</td>\n",
       "    </tr>\n",
       "    <tr>\n",
       "      <th>297925</th>\n",
       "      <td>HHH_rd1_0432.pdb</td>\n",
       "      <td>CGTGAAGAAGACGCTCGTCGTACCGCGAAAAAACTGCTGCAGAAAG...</td>\n",
       "      <td>0.515711</td>\n",
       "      <td>0.347528</td>\n",
       "    </tr>\n",
       "    <tr>\n",
       "      <th>297926</th>\n",
       "      <td>1U0P</td>\n",
       "      <td>GGTTACATCCCGGAAGCTCCGCGTGACGGTCAGGCGTACGTTCGTA...</td>\n",
       "      <td>0.518222</td>\n",
       "      <td>0.350397</td>\n",
       "    </tr>\n",
       "    <tr>\n",
       "      <th>297927</th>\n",
       "      <td>3HRO</td>\n",
       "      <td>GGTTCTCACATGGGTGTTTCTTACGAAGAATTCCAGGTTCTGGTTC...</td>\n",
       "      <td>0.517793</td>\n",
       "      <td>0.331829</td>\n",
       "    </tr>\n",
       "    <tr>\n",
       "      <th>297928</th>\n",
       "      <td>HHH_rd3_0009.pdb</td>\n",
       "      <td>TCTCAGGAACAGCTGAAGAAGGAAGTTGAACGTGCGGTTCGTGAAG...</td>\n",
       "      <td>0.510965</td>\n",
       "      <td>0.346033</td>\n",
       "    </tr>\n",
       "  </tbody>\n",
       "</table>\n",
       "<p>297929 rows × 4 columns</p>\n",
       "</div>"
      ],
      "text/plain": [
       "                    name                                            dna_seq  \\\n",
       "0                   1A11  GGTTCTGAAAAAATGTCTACCGCGATCTCTGTTCTGCTGGCGCAGG...   \n",
       "1             1A11_PG_hp  GGTAAACGTGAAGCGACCCAGATGCTGCAGGTTCTGCTGCTGTCTG...   \n",
       "2                   1AIE  GAATACTTCACCCTGCAGATCCGTGGTCGTGAACGCTTCGAAATGT...   \n",
       "3             1AIE_PG_hp  CAGATGTACGAAGCGGAGTTCGAAGGCCAGCGTCGTATCGAATTCT...   \n",
       "4                   1AMB  GACGCTGAATTCCGTCACGACTCTGGTTACGAAGTTCACCACCAAA...   \n",
       "...                  ...                                                ...   \n",
       "297924  HHH_rd4_0860.pdb  CAGGACGAAGCGAAGAAAAAAGTTGAACGTCTGGTTCGTAACGGTG...   \n",
       "297925  HHH_rd1_0432.pdb  CGTGAAGAAGACGCTCGTCGTACCGCGAAAAAACTGCTGCAGAAAG...   \n",
       "297926              1U0P  GGTTACATCCCGGAAGCTCCGCGTGACGGTCAGGCGTACGTTCGTA...   \n",
       "297927              3HRO  GGTTCTCACATGGGTGTTTCTTACGAAGAATTCCAGGTTCTGGTTC...   \n",
       "297928  HHH_rd3_0009.pdb  TCTCAGGAACAGCTGAAGAAGGAAGTTGAACGTGCGGTTCGTGAAG...   \n",
       "\n",
       "        unfolded_K50t  unfolded_K50c  \n",
       "0            0.494883       0.337770  \n",
       "1            0.487347       0.309948  \n",
       "2            0.452976       0.238489  \n",
       "3            0.502698       0.244043  \n",
       "4            0.512763       0.269075  \n",
       "...               ...            ...  \n",
       "297924       0.481668       0.173534  \n",
       "297925       0.515711       0.347528  \n",
       "297926       0.518222       0.350397  \n",
       "297927       0.517793       0.331829  \n",
       "297928       0.510965       0.346033  \n",
       "\n",
       "[297929 rows x 4 columns]"
      ]
     },
     "execution_count": 3,
     "metadata": {},
     "output_type": "execute_result"
    }
   ],
   "source": [
    "# run the module for lib 1\n",
    "df1 = pd.read_csv('../Raw_NGS_count_tables/NGS_count_lib1.csv')\n",
    "df_unfolded = DataS23_STEP4_module.caluculation_unfoldedK(df1)\n",
    "df_unfolded.to_csv('Lib1_unfolded.csv')\n",
    "df_unfolded"
   ]
  },
  {
   "cell_type": "code",
   "execution_count": null,
   "id": "c70487df",
   "metadata": {},
   "outputs": [],
   "source": [
    "# run the module for lib 2\n",
    "df1 = pd.read_csv('../Raw_NGS_count_tables/NGS_count_lib2.csv')\n",
    "df_unfolded = DataS23_STEP4_module.caluculation_unfoldedK(df)\n",
    "df_unfolded.to_csv('Lib2_unfolded.csv')\n",
    "df_unfolded"
   ]
  },
  {
   "cell_type": "code",
   "execution_count": null,
   "id": "f4362611",
   "metadata": {},
   "outputs": [],
   "source": [
    "# run the module for lib 3\n",
    "df1 = pd.read_csv('../Raw_NGS_count_tables/NGS_count_lib3.csv')\n",
    "df_unfolded = DataS23_STEP4_module.caluculation_unfoldedK(df)\n",
    "df_unfolded.to_csv('Lib3_unfolded.csv')\n",
    "df_unfolded"
   ]
  },
  {
   "cell_type": "code",
   "execution_count": null,
   "id": "3642e0ad",
   "metadata": {
    "scrolled": true
   },
   "outputs": [],
   "source": [
    "# run the module for lib 4\n",
    "df1 = pd.read_csv('../Raw_NGS_count_tables/NGS_count_lib4.csv')\n",
    "df_unfolded = DataS23_STEP4_module.caluculation_unfoldedK(df)\n",
    "df_unfolded.to_csv('Lib4_unfolded.csv')\n",
    "df_unfolded"
   ]
  },
  {
   "cell_type": "code",
   "execution_count": null,
   "id": "6d9234a6",
   "metadata": {},
   "outputs": [],
   "source": []
  },
  {
   "cell_type": "code",
   "execution_count": null,
   "id": "274c87e8",
   "metadata": {},
   "outputs": [],
   "source": []
  }
 ],
 "metadata": {
  "kernelspec": {
   "display_name": "Python 3 (ipykernel)",
   "language": "python",
   "name": "python3"
  },
  "language_info": {
   "codemirror_mode": {
    "name": "ipython",
    "version": 3
   },
   "file_extension": ".py",
   "mimetype": "text/x-python",
   "name": "python",
   "nbconvert_exporter": "python",
   "pygments_lexer": "ipython3",
   "version": "3.9.12"
  }
 },
 "nbformat": 4,
 "nbformat_minor": 5
}
